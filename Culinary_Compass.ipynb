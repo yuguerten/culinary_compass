{
 "cells": [
  {
   "cell_type": "markdown",
   "id": "a62aead2-18fb-49a2-9fd8-7723fb78e01b",
   "metadata": {},
   "source": [
    "# Installation"
   ]
  },
  {
   "cell_type": "code",
   "execution_count": 1,
   "id": "5347fc60-9614-4e6e-8256-a154a901b547",
   "metadata": {
    "collapsed": true,
    "jupyter": {
     "outputs_hidden": true
    },
    "scrolled": true
   },
   "outputs": [
    {
     "name": "stdout",
     "output_type": "stream",
     "text": [
      "Requirement already satisfied: sentence-transformers in c:\\users\\yuguerten\\appdata\\local\\programs\\python\\python311\\lib\\site-packages (2.5.1)\n",
      "Requirement already satisfied: transformers<5.0.0,>=4.32.0 in c:\\users\\yuguerten\\appdata\\local\\programs\\python\\python311\\lib\\site-packages (from sentence-transformers) (4.38.1)\n",
      "Requirement already satisfied: tqdm in c:\\users\\yuguerten\\appdata\\local\\programs\\python\\python311\\lib\\site-packages (from sentence-transformers) (4.66.1)\n",
      "Requirement already satisfied: torch>=1.11.0 in c:\\users\\yuguerten\\appdata\\local\\programs\\python\\python311\\lib\\site-packages (from sentence-transformers) (2.2.1)\n",
      "Requirement already satisfied: numpy in c:\\users\\yuguerten\\appdata\\local\\programs\\python\\python311\\lib\\site-packages (from sentence-transformers) (1.26.3)\n",
      "Requirement already satisfied: scikit-learn in c:\\users\\yuguerten\\appdata\\local\\programs\\python\\python311\\lib\\site-packages (from sentence-transformers) (1.3.2)\n",
      "Requirement already satisfied: scipy in c:\\users\\yuguerten\\appdata\\local\\programs\\python\\python311\\lib\\site-packages (from sentence-transformers) (1.11.4)\n",
      "Requirement already satisfied: huggingface-hub>=0.15.1 in c:\\users\\yuguerten\\appdata\\local\\programs\\python\\python311\\lib\\site-packages (from sentence-transformers) (0.20.3)\n",
      "Requirement already satisfied: Pillow in c:\\users\\yuguerten\\appdata\\local\\programs\\python\\python311\\lib\\site-packages (from sentence-transformers) (10.2.0)\n",
      "Requirement already satisfied: filelock in c:\\users\\yuguerten\\appdata\\local\\programs\\python\\python311\\lib\\site-packages (from huggingface-hub>=0.15.1->sentence-transformers) (3.13.1)\n",
      "Requirement already satisfied: fsspec>=2023.5.0 in c:\\users\\yuguerten\\appdata\\local\\programs\\python\\python311\\lib\\site-packages (from huggingface-hub>=0.15.1->sentence-transformers) (2023.12.2)\n",
      "Requirement already satisfied: requests in c:\\users\\yuguerten\\appdata\\local\\programs\\python\\python311\\lib\\site-packages (from huggingface-hub>=0.15.1->sentence-transformers) (2.31.0)\n",
      "Requirement already satisfied: pyyaml>=5.1 in c:\\users\\yuguerten\\appdata\\local\\programs\\python\\python311\\lib\\site-packages (from huggingface-hub>=0.15.1->sentence-transformers) (6.0.1)\n",
      "Requirement already satisfied: typing-extensions>=3.7.4.3 in c:\\users\\yuguerten\\appdata\\local\\programs\\python\\python311\\lib\\site-packages (from huggingface-hub>=0.15.1->sentence-transformers) (4.9.0)\n",
      "Requirement already satisfied: packaging>=20.9 in c:\\users\\yuguerten\\appdata\\local\\programs\\python\\python311\\lib\\site-packages (from huggingface-hub>=0.15.1->sentence-transformers) (23.2)\n",
      "Requirement already satisfied: sympy in c:\\users\\yuguerten\\appdata\\local\\programs\\python\\python311\\lib\\site-packages (from torch>=1.11.0->sentence-transformers) (1.12)\n",
      "Requirement already satisfied: networkx in c:\\users\\yuguerten\\appdata\\local\\programs\\python\\python311\\lib\\site-packages (from torch>=1.11.0->sentence-transformers) (3.2.1)\n",
      "Requirement already satisfied: jinja2 in c:\\users\\yuguerten\\appdata\\local\\programs\\python\\python311\\lib\\site-packages (from torch>=1.11.0->sentence-transformers) (3.1.2)\n",
      "Requirement already satisfied: colorama in c:\\users\\yuguerten\\appdata\\local\\programs\\python\\python311\\lib\\site-packages (from tqdm->sentence-transformers) (0.4.6)\n",
      "Requirement already satisfied: regex!=2019.12.17 in c:\\users\\yuguerten\\appdata\\local\\programs\\python\\python311\\lib\\site-packages (from transformers<5.0.0,>=4.32.0->sentence-transformers) (2023.12.25)\n",
      "Requirement already satisfied: tokenizers<0.19,>=0.14 in c:\\users\\yuguerten\\appdata\\local\\programs\\python\\python311\\lib\\site-packages (from transformers<5.0.0,>=4.32.0->sentence-transformers) (0.15.2)\n",
      "Requirement already satisfied: safetensors>=0.4.1 in c:\\users\\yuguerten\\appdata\\local\\programs\\python\\python311\\lib\\site-packages (from transformers<5.0.0,>=4.32.0->sentence-transformers) (0.4.2)\n",
      "Requirement already satisfied: joblib>=1.1.1 in c:\\users\\yuguerten\\appdata\\local\\programs\\python\\python311\\lib\\site-packages (from scikit-learn->sentence-transformers) (1.3.2)\n",
      "Requirement already satisfied: threadpoolctl>=2.0.0 in c:\\users\\yuguerten\\appdata\\local\\programs\\python\\python311\\lib\\site-packages (from scikit-learn->sentence-transformers) (3.2.0)\n",
      "Requirement already satisfied: MarkupSafe>=2.0 in c:\\users\\yuguerten\\appdata\\local\\programs\\python\\python311\\lib\\site-packages (from jinja2->torch>=1.11.0->sentence-transformers) (2.1.3)\n",
      "Requirement already satisfied: charset-normalizer<4,>=2 in c:\\users\\yuguerten\\appdata\\local\\programs\\python\\python311\\lib\\site-packages (from requests->huggingface-hub>=0.15.1->sentence-transformers) (3.3.2)\n",
      "Requirement already satisfied: idna<4,>=2.5 in c:\\users\\yuguerten\\appdata\\local\\programs\\python\\python311\\lib\\site-packages (from requests->huggingface-hub>=0.15.1->sentence-transformers) (3.6)\n",
      "Requirement already satisfied: urllib3<3,>=1.21.1 in c:\\users\\yuguerten\\appdata\\local\\programs\\python\\python311\\lib\\site-packages (from requests->huggingface-hub>=0.15.1->sentence-transformers) (2.1.0)\n",
      "Requirement already satisfied: certifi>=2017.4.17 in c:\\users\\yuguerten\\appdata\\local\\programs\\python\\python311\\lib\\site-packages (from requests->huggingface-hub>=0.15.1->sentence-transformers) (2023.11.17)\n",
      "Requirement already satisfied: mpmath>=0.19 in c:\\users\\yuguerten\\appdata\\local\\programs\\python\\python311\\lib\\site-packages (from sympy->torch>=1.11.0->sentence-transformers) (1.3.0)\n"
     ]
    },
    {
     "name": "stderr",
     "output_type": "stream",
     "text": [
      "\n",
      "[notice] A new release of pip is available: 23.3.2 -> 24.0\n",
      "[notice] To update, run: python.exe -m pip install --upgrade pip\n"
     ]
    }
   ],
   "source": [
    "!pip install -U sentence-transformers"
   ]
  },
  {
   "cell_type": "markdown",
   "id": "9820101d-2e2b-4dd8-8cad-ed8929d55bc2",
   "metadata": {},
   "source": [
    "# Model Loading"
   ]
  },
  {
   "cell_type": "code",
   "execution_count": 2,
   "id": "25128836-d0e7-4562-8f5b-64c9c6f7bebd",
   "metadata": {},
   "outputs": [],
   "source": [
    "from sentence_transformers import SentenceTransformer\n",
    "model = SentenceTransformer('sentence-transformers/all-MiniLM-L6-v2')"
   ]
  },
  {
   "cell_type": "markdown",
   "id": "722d1fbb-105f-49cd-aad7-b24a0b917b4b",
   "metadata": {},
   "source": [
    "# Importing libraries"
   ]
  },
  {
   "cell_type": "code",
   "execution_count": 3,
   "id": "1fe02c5f-4193-41df-a92c-d982040766f5",
   "metadata": {},
   "outputs": [],
   "source": [
    "from sklearn.metrics.pairwise import cosine_distances\n",
    "from IPython.display import display , HTML\n",
    "import pandas as pd\n",
    "import numpy as np"
   ]
  },
  {
   "cell_type": "markdown",
   "id": "2b322894-cb8b-4c7b-9314-eb2049052b41",
   "metadata": {},
   "source": [
    "# Data Preparation & Dataframe Display"
   ]
  },
  {
   "cell_type": "code",
   "execution_count": 4,
   "id": "f075097e-0ec0-4462-8785-74c4250af365",
   "metadata": {},
   "outputs": [
    {
     "data": {
      "text/html": [
       "<div>\n",
       "<style scoped>\n",
       "    .dataframe tbody tr th:only-of-type {\n",
       "        vertical-align: middle;\n",
       "    }\n",
       "\n",
       "    .dataframe tbody tr th {\n",
       "        vertical-align: top;\n",
       "    }\n",
       "\n",
       "    .dataframe thead th {\n",
       "        text-align: right;\n",
       "    }\n",
       "</style>\n",
       "<table border=\"1\" class=\"dataframe\">\n",
       "  <thead>\n",
       "    <tr style=\"text-align: right;\">\n",
       "      <th></th>\n",
       "      <th>Title</th>\n",
       "      <th>Ingredients</th>\n",
       "      <th>Instructions</th>\n",
       "      <th>Image_Name</th>\n",
       "      <th>Cleaned_Ingredients</th>\n",
       "      <th>text</th>\n",
       "    </tr>\n",
       "  </thead>\n",
       "  <tbody>\n",
       "    <tr>\n",
       "      <th>0</th>\n",
       "      <td>Miso-Butter Roast Chicken With Acorn Squash Pa...</td>\n",
       "      <td>['1 (3½–4-lb.) whole chicken', '2¾ tsp. kosher...</td>\n",
       "      <td>Pat chicken dry with paper towels, season all ...</td>\n",
       "      <td>miso-butter-roast-chicken-acorn-squash-panzanella</td>\n",
       "      <td>['1 (3½–4-lb.) whole chicken', '2¾ tsp. kosher...</td>\n",
       "      <td>Food Name : Miso-Butter Roast Chicken Wit...</td>\n",
       "    </tr>\n",
       "    <tr>\n",
       "      <th>1</th>\n",
       "      <td>Crispy Salt and Pepper Potatoes</td>\n",
       "      <td>['2 large egg whites', '1 pound new potatoes (...</td>\n",
       "      <td>Preheat oven to 400°F and line a rimmed baking...</td>\n",
       "      <td>crispy-salt-and-pepper-potatoes-dan-kluger</td>\n",
       "      <td>['2 large egg whites', '1 pound new potatoes (...</td>\n",
       "      <td>Food Name : Crispy Salt and Pepper Potato...</td>\n",
       "    </tr>\n",
       "    <tr>\n",
       "      <th>2</th>\n",
       "      <td>Thanksgiving Mac and Cheese</td>\n",
       "      <td>['1 cup evaporated milk', '1 cup whole milk', ...</td>\n",
       "      <td>Place a rack in middle of oven; preheat to 400...</td>\n",
       "      <td>thanksgiving-mac-and-cheese-erick-williams</td>\n",
       "      <td>['1 cup evaporated milk', '1 cup whole milk', ...</td>\n",
       "      <td>Food Name : Thanksgiving Mac and Cheese  ...</td>\n",
       "    </tr>\n",
       "    <tr>\n",
       "      <th>3</th>\n",
       "      <td>Italian Sausage and Bread Stuffing</td>\n",
       "      <td>['1 (¾- to 1-pound) round Italian loaf, cut in...</td>\n",
       "      <td>Preheat oven to 350°F with rack in middle. Gen...</td>\n",
       "      <td>italian-sausage-and-bread-stuffing-240559</td>\n",
       "      <td>['1 (¾- to 1-pound) round Italian loaf, cut in...</td>\n",
       "      <td>Food Name : Italian Sausage and Bread Stu...</td>\n",
       "    </tr>\n",
       "    <tr>\n",
       "      <th>4</th>\n",
       "      <td>Newton's Law</td>\n",
       "      <td>['1 teaspoon dark brown sugar', '1 teaspoon ho...</td>\n",
       "      <td>Stir together brown sugar and hot water in a c...</td>\n",
       "      <td>newtons-law-apple-bourbon-cocktail</td>\n",
       "      <td>['1 teaspoon dark brown sugar', '1 teaspoon ho...</td>\n",
       "      <td>Food Name : Newton's Law    Ingredients: ...</td>\n",
       "    </tr>\n",
       "  </tbody>\n",
       "</table>\n",
       "</div>"
      ],
      "text/plain": [
       "                                               Title  \\\n",
       "0  Miso-Butter Roast Chicken With Acorn Squash Pa...   \n",
       "1                    Crispy Salt and Pepper Potatoes   \n",
       "2                        Thanksgiving Mac and Cheese   \n",
       "3                 Italian Sausage and Bread Stuffing   \n",
       "4                                       Newton's Law   \n",
       "\n",
       "                                         Ingredients  \\\n",
       "0  ['1 (3½–4-lb.) whole chicken', '2¾ tsp. kosher...   \n",
       "1  ['2 large egg whites', '1 pound new potatoes (...   \n",
       "2  ['1 cup evaporated milk', '1 cup whole milk', ...   \n",
       "3  ['1 (¾- to 1-pound) round Italian loaf, cut in...   \n",
       "4  ['1 teaspoon dark brown sugar', '1 teaspoon ho...   \n",
       "\n",
       "                                        Instructions  \\\n",
       "0  Pat chicken dry with paper towels, season all ...   \n",
       "1  Preheat oven to 400°F and line a rimmed baking...   \n",
       "2  Place a rack in middle of oven; preheat to 400...   \n",
       "3  Preheat oven to 350°F with rack in middle. Gen...   \n",
       "4  Stir together brown sugar and hot water in a c...   \n",
       "\n",
       "                                          Image_Name  \\\n",
       "0  miso-butter-roast-chicken-acorn-squash-panzanella   \n",
       "1         crispy-salt-and-pepper-potatoes-dan-kluger   \n",
       "2         thanksgiving-mac-and-cheese-erick-williams   \n",
       "3          italian-sausage-and-bread-stuffing-240559   \n",
       "4                 newtons-law-apple-bourbon-cocktail   \n",
       "\n",
       "                                 Cleaned_Ingredients  \\\n",
       "0  ['1 (3½–4-lb.) whole chicken', '2¾ tsp. kosher...   \n",
       "1  ['2 large egg whites', '1 pound new potatoes (...   \n",
       "2  ['1 cup evaporated milk', '1 cup whole milk', ...   \n",
       "3  ['1 (¾- to 1-pound) round Italian loaf, cut in...   \n",
       "4  ['1 teaspoon dark brown sugar', '1 teaspoon ho...   \n",
       "\n",
       "                                                text  \n",
       "0       Food Name : Miso-Butter Roast Chicken Wit...  \n",
       "1       Food Name : Crispy Salt and Pepper Potato...  \n",
       "2       Food Name : Thanksgiving Mac and Cheese  ...  \n",
       "3       Food Name : Italian Sausage and Bread Stu...  \n",
       "4       Food Name : Newton's Law    Ingredients: ...  "
      ]
     },
     "execution_count": 4,
     "metadata": {},
     "output_type": "execute_result"
    }
   ],
   "source": [
    "food_ingredients_recipes = pd.read_csv('Food Ingredients and Recipe Dataset with Image Name Mapping.csv')\n",
    "food_texts = []\n",
    "for _,row in food_ingredients_recipes.iterrows():\n",
    "    food_text = f''' \n",
    "    Food Name : {row[\"Title\"]}\n",
    "    Ingredients: {row[\"Cleaned_Ingredients\"]}\n",
    "    Instructions: {row[\"Instructions\"]}\n",
    "    '''\n",
    "    food_texts.append(food_text)\n",
    "food_ingredients_recipes[\"text\"] = food_texts\n",
    "food_ingredients_recipes['text'] = food_ingredients_recipes['text'].replace('\\n','', regex=True)\n",
    "food_ingredients_recipes.drop_duplicates(subset=['Title'], keep='first', inplace=True)\n",
    "column_to_drop = 'Unnamed: 0'\n",
    "food_ingredients_recipes = food_ingredients_recipes.drop(columns=column_to_drop)\n",
    "food_ingredients_recipes = food_ingredients_recipes.dropna()\n",
    "food_ingredients_recipes.head()"
   ]
  },
  {
   "cell_type": "code",
   "execution_count": 5,
   "id": "42e74479-d951-4093-82fc-7beeef38b4fb",
   "metadata": {},
   "outputs": [
    {
     "name": "stdout",
     "output_type": "stream",
     "text": [
      "<class 'pandas.core.frame.DataFrame'>\n",
      "Index: 13302 entries, 0 to 13500\n",
      "Data columns (total 6 columns):\n",
      " #   Column               Non-Null Count  Dtype \n",
      "---  ------               --------------  ----- \n",
      " 0   Title                13302 non-null  object\n",
      " 1   Ingredients          13302 non-null  object\n",
      " 2   Instructions         13302 non-null  object\n",
      " 3   Image_Name           13302 non-null  object\n",
      " 4   Cleaned_Ingredients  13302 non-null  object\n",
      " 5   text                 13302 non-null  object\n",
      "dtypes: object(6)\n",
      "memory usage: 727.5+ KB\n"
     ]
    }
   ],
   "source": [
    "#Dataframe Information\n",
    "food_ingredients_recipes.info()"
   ]
  },
  {
   "cell_type": "markdown",
   "id": "b1e77871-6358-4796-a1fa-daa7e8ef4d6b",
   "metadata": {},
   "source": [
    "# HTML Display Function"
   ]
  },
  {
   "cell_type": "code",
   "execution_count": 15,
   "id": "b9496ae1-d697-4573-9c4a-a33e906e1109",
   "metadata": {},
   "outputs": [
    {
     "data": {
      "text/html": [
       "\n",
       "    <div style=\"border: 2px solid #3498db; border-radius: 10px; overflow: hidden; margin: 20px; padding: 10px; background-color: #ecf0f1;\">\n",
       "        <h2 style=\"color: #3498db; text-align: center; font-weight: bold; padding-bottom: 10px;\">King Orchard's Sour Cherry Pie</h2>\n",
       "        <div style=\"display: flex; flex-wrap: wrap;\">\n",
       "            <div style=\"flex: 1; padding-right: 20px;\">\n",
       "                <h4 style=\"color: #2c3e50;\">Ingredients:</h4>\n",
       "                <p style=\"color: #34495e; margin-bottom: 0;\">['2 cups all-purpose flour', '1 teaspoon salt', '2 tablespoons sugar', '1/2 cup (1 stick) cold unsalted butter, cut into small pieces', '1/3 cup cold vegetable shortening', '5 or 6 tablespoons ice-cold water', '2 pounds sour cherries, pitted', '1 cup sugar', '1/3 cup all-purpose flour', '1/4 teaspoon almond extract', '1 egg white, lightly beaten']</p>\n",
       "            </div>\n",
       "            <div style=\"flex: 1;\">\n",
       "                <h4 style=\"color: #2c3e50;\">Instructions:</h4>\n",
       "                <p style=\"color: #34495e; margin-bottom: 0;\">1. Place the flour, salt and sugar in a food processor; pulse on and off to mix. Add the butter and shortening, then pulse the machine on and off until the mixture resembles coarse meal.\n",
       "2. Add the water through the feed tube, pulsing on and off, until the dough gathers together in the side of the work bowl. Remove dough and form it into a disk. Wrap it in plastic and chill in the refrigerator for at least 1 hour.\n",
       "3. Divide the dough in half. Roll out half on a floured work surface (or between 2 sheets of waxed paper) into an 1/8-inch thick round large enough to fit your pie pan. It should be about 1 1/2 to 2 inches larger than the pie pan. Work quickly, as the dough can get sticky. Repeat with remaining dough for a top crust.\n",
       "4. Preheat the oven to 400° F.\n",
       "5. In a saucepan, mix together the cherries, sugar, flour and almond extract. Bring to a boil. Boil for 1 minute, stirring. Cool to room temperature.\n",
       "6. Line a 9-inch pie pan with half of the pie dough. Brush the bottom crust with egg white. Spoon the cooled cherry filling into the crust. Cover with the top crust. Trim the excess dough, leaving a 1-inch overhang. Moisten the rims of the crusts where they meet with water, then turn the top crust under the bottom and crimp the edges decoratively. Cut a few slits in the top to allow the steam to escape.\n",
       "7. Bake the pie in the center of the oven for 35 minutes or until the crust is golden brown.</p>\n",
       "            </div>\n",
       "        </div>\n",
       "        <img src=\"./Food Images/Food Images/king-orchards-sour-cherry-pie-240843.jpg\" style=\"max-width: 100%; border-radius: 10px; margin-top: 15px; box-shadow: 0px 0px 10px rgba(0, 0, 0, 0.1);\">\n",
       "    </div>\n",
       "    "
      ],
      "text/plain": [
       "<IPython.core.display.HTML object>"
      ]
     },
     "metadata": {},
     "output_type": "display_data"
    },
    {
     "data": {
      "text/html": [
       "\n",
       "    <div style=\"border: 2px solid #3498db; border-radius: 10px; overflow: hidden; margin: 20px; padding: 10px; background-color: #ecf0f1;\">\n",
       "        <h2 style=\"color: #3498db; text-align: center; font-weight: bold; padding-bottom: 10px;\">Sweet-Cream Coffee Butter</h2>\n",
       "        <div style=\"display: flex; flex-wrap: wrap;\">\n",
       "            <div style=\"flex: 1; padding-right: 20px;\">\n",
       "                <h4 style=\"color: #2c3e50;\">Ingredients:</h4>\n",
       "                <p style=\"color: #34495e; margin-bottom: 0;\">['1/4 cup heavy cream', '3 tablespoons sugar', '2 tablespoons safflower or other neutral oil', '2 teaspoons finely ground espresso powder', '1/8 teaspoon kosher salt', '1/2 cup (1 stick) unsalted butter, softened']</p>\n",
       "            </div>\n",
       "            <div style=\"flex: 1;\">\n",
       "                <h4 style=\"color: #2c3e50;\">Instructions:</h4>\n",
       "                <p style=\"color: #34495e; margin-bottom: 0;\">Cook cream, sugar, oil, espresso powder, and salt in a small saucepan over medium heat, stirring, until just simmering and solids are dissolved, about 2 minutes. Transfer to a small bowl and chill until cool, about 30 minutes.\n",
       "Beat butter on medium-low speed in the bowl of a stand mixer fitted with the paddle attachment (or in a food processor) to combine. With the motor running, drizzle in cream mixture. Increase speed to medium-high and beat until combined and smooth. Transfer to a resealable container and chill at least 3 hours. Let sit at room temperature at least 15 minutes before serving.\n",
       "Butter can be made 10 days ahead; keep chilled.</p>\n",
       "            </div>\n",
       "        </div>\n",
       "        <img src=\"./Food Images/Food Images/sweet-cream-coffee-butter.jpg\" style=\"max-width: 100%; border-radius: 10px; margin-top: 15px; box-shadow: 0px 0px 10px rgba(0, 0, 0, 0.1);\">\n",
       "    </div>\n",
       "    "
      ],
      "text/plain": [
       "<IPython.core.display.HTML object>"
      ]
     },
     "metadata": {},
     "output_type": "display_data"
    },
    {
     "data": {
      "text/html": [
       "\n",
       "    <div style=\"border: 2px solid #3498db; border-radius: 10px; overflow: hidden; margin: 20px; padding: 10px; background-color: #ecf0f1;\">\n",
       "        <h2 style=\"color: #3498db; text-align: center; font-weight: bold; padding-bottom: 10px;\">Avocado-Alfalfa Turkey Burger</h2>\n",
       "        <div style=\"display: flex; flex-wrap: wrap;\">\n",
       "            <div style=\"flex: 1; padding-right: 20px;\">\n",
       "                <h4 style=\"color: #2c3e50;\">Ingredients:</h4>\n",
       "                <p style=\"color: #34495e; margin-bottom: 0;\">['1/4 cup ketchup', '1 1/2 tablespoons pomegranate molasses (available at Whole Foods)', '1 Hass avocado', '1 tablespoon fresh lime juice', '1 pound ground turkey (97 percent lean)', 'Vegetable-oil cooking spray', '4 slices Monterey Jack cheese', '2 small vine-ripened tomatoes, sliced', '4 ounces alfalfa sprouts', '4 whole-wheat hamburger buns, toasted']</p>\n",
       "            </div>\n",
       "            <div style=\"flex: 1;\">\n",
       "                <h4 style=\"color: #2c3e50;\">Instructions:</h4>\n",
       "                <p style=\"color: #34495e; margin-bottom: 0;\">In a bowl, combine ketchup and molasses; season with salt and pepper. In another bowl, crush avocado with juice; season with salt. Form turkey into four patties. Coat a grill pan or grill rack with cooking spray. Grill patties over medium-high heat until internal temperature reaches 165°F, 20 minutes. Top each with 1 cheese slice. Divide ketchup mixture, burgers, tomatoes, avocado mixture and alfalfa sprouts among buns.</p>\n",
       "            </div>\n",
       "        </div>\n",
       "        <img src=\"./Food Images/Food Images/avocado-alfalfa-turkey-burger-51196220.jpg\" style=\"max-width: 100%; border-radius: 10px; margin-top: 15px; box-shadow: 0px 0px 10px rgba(0, 0, 0, 0.1);\">\n",
       "    </div>\n",
       "    "
      ],
      "text/plain": [
       "<IPython.core.display.HTML object>"
      ]
     },
     "metadata": {},
     "output_type": "display_data"
    }
   ],
   "source": [
    "def display_food(row):\n",
    "    title = row[\"Title\"]\n",
    "    Ingredients = row[\"Ingredients\"]\n",
    "    Instructions = row[\"Instructions\"]\n",
    "    image_name = row[\"Image_Name\"]\n",
    "    image_path = f'./Food Images/Food Images/{image_name}.jpg'  # Adjust the image extension if necessary\n",
    "    \n",
    "    # Updated HTML styling\n",
    "    html = f\"\"\"\n",
    "    <div style=\"border: 2px solid #3498db; border-radius: 10px; overflow: hidden; margin: 20px; padding: 10px; background-color: #ecf0f1;\">\n",
    "        <h2 style=\"color: #3498db; text-align: center; font-weight: bold; padding-bottom: 10px;\">{title}</h2>\n",
    "        <div style=\"display: flex; flex-wrap: wrap;\">\n",
    "            <div style=\"flex: 1; padding-right: 20px;\">\n",
    "                <h4 style=\"color: #2c3e50;\">Ingredients:</h4>\n",
    "                <p style=\"color: #34495e; margin-bottom: 0;\">{Ingredients}</p>\n",
    "            </div>\n",
    "            <div style=\"flex: 1;\">\n",
    "                <h4 style=\"color: #2c3e50;\">Instructions:</h4>\n",
    "                <p style=\"color: #34495e; margin-bottom: 0;\">{Instructions}</p>\n",
    "            </div>\n",
    "        </div>\n",
    "        <img src=\"{image_path}\" style=\"max-width: 100%; border-radius: 10px; margin-top: 15px; box-shadow: 0px 0px 10px rgba(0, 0, 0, 0.1);\">\n",
    "    </div>\n",
    "    \"\"\"\n",
    "    \n",
    "    return html\n",
    "\n",
    "for _, row in food_ingredients_recipes.sample(3).iterrows():\n",
    "        display(HTML(display_food(row)))"
   ]
  },
  {
   "cell_type": "code",
   "execution_count": 7,
   "id": "045240af-bfaf-4b63-9999-630b571a3299",
   "metadata": {},
   "outputs": [
    {
     "data": {
      "text/html": [
       "<div>\n",
       "<style scoped>\n",
       "    .dataframe tbody tr th:only-of-type {\n",
       "        vertical-align: middle;\n",
       "    }\n",
       "\n",
       "    .dataframe tbody tr th {\n",
       "        vertical-align: top;\n",
       "    }\n",
       "\n",
       "    .dataframe thead th {\n",
       "        text-align: right;\n",
       "    }\n",
       "</style>\n",
       "<table border=\"1\" class=\"dataframe\">\n",
       "  <thead>\n",
       "    <tr style=\"text-align: right;\">\n",
       "      <th></th>\n",
       "      <th>Title</th>\n",
       "      <th>Ingredients</th>\n",
       "      <th>Instructions</th>\n",
       "      <th>Image_Name</th>\n",
       "      <th>Cleaned_Ingredients</th>\n",
       "      <th>text</th>\n",
       "    </tr>\n",
       "  </thead>\n",
       "  <tbody>\n",
       "    <tr>\n",
       "      <th>0</th>\n",
       "      <td>Miso-Butter Roast Chicken With Acorn Squash Pa...</td>\n",
       "      <td>['1 (3½–4-lb.) whole chicken', '2¾ tsp. kosher...</td>\n",
       "      <td>Pat chicken dry with paper towels, season all ...</td>\n",
       "      <td>miso-butter-roast-chicken-acorn-squash-panzanella</td>\n",
       "      <td>['1 (3½–4-lb.) whole chicken', '2¾ tsp. kosher...</td>\n",
       "      <td>Food Name : Miso-Butter Roast Chicken Wit...</td>\n",
       "    </tr>\n",
       "    <tr>\n",
       "      <th>1</th>\n",
       "      <td>Crispy Salt and Pepper Potatoes</td>\n",
       "      <td>['2 large egg whites', '1 pound new potatoes (...</td>\n",
       "      <td>Preheat oven to 400°F and line a rimmed baking...</td>\n",
       "      <td>crispy-salt-and-pepper-potatoes-dan-kluger</td>\n",
       "      <td>['2 large egg whites', '1 pound new potatoes (...</td>\n",
       "      <td>Food Name : Crispy Salt and Pepper Potato...</td>\n",
       "    </tr>\n",
       "    <tr>\n",
       "      <th>2</th>\n",
       "      <td>Thanksgiving Mac and Cheese</td>\n",
       "      <td>['1 cup evaporated milk', '1 cup whole milk', ...</td>\n",
       "      <td>Place a rack in middle of oven; preheat to 400...</td>\n",
       "      <td>thanksgiving-mac-and-cheese-erick-williams</td>\n",
       "      <td>['1 cup evaporated milk', '1 cup whole milk', ...</td>\n",
       "      <td>Food Name : Thanksgiving Mac and Cheese  ...</td>\n",
       "    </tr>\n",
       "    <tr>\n",
       "      <th>3</th>\n",
       "      <td>Italian Sausage and Bread Stuffing</td>\n",
       "      <td>['1 (¾- to 1-pound) round Italian loaf, cut in...</td>\n",
       "      <td>Preheat oven to 350°F with rack in middle. Gen...</td>\n",
       "      <td>italian-sausage-and-bread-stuffing-240559</td>\n",
       "      <td>['1 (¾- to 1-pound) round Italian loaf, cut in...</td>\n",
       "      <td>Food Name : Italian Sausage and Bread Stu...</td>\n",
       "    </tr>\n",
       "    <tr>\n",
       "      <th>4</th>\n",
       "      <td>Newton's Law</td>\n",
       "      <td>['1 teaspoon dark brown sugar', '1 teaspoon ho...</td>\n",
       "      <td>Stir together brown sugar and hot water in a c...</td>\n",
       "      <td>newtons-law-apple-bourbon-cocktail</td>\n",
       "      <td>['1 teaspoon dark brown sugar', '1 teaspoon ho...</td>\n",
       "      <td>Food Name : Newton's Law    Ingredients: ...</td>\n",
       "    </tr>\n",
       "  </tbody>\n",
       "</table>\n",
       "</div>"
      ],
      "text/plain": [
       "                                               Title  \\\n",
       "0  Miso-Butter Roast Chicken With Acorn Squash Pa...   \n",
       "1                    Crispy Salt and Pepper Potatoes   \n",
       "2                        Thanksgiving Mac and Cheese   \n",
       "3                 Italian Sausage and Bread Stuffing   \n",
       "4                                       Newton's Law   \n",
       "\n",
       "                                         Ingredients  \\\n",
       "0  ['1 (3½–4-lb.) whole chicken', '2¾ tsp. kosher...   \n",
       "1  ['2 large egg whites', '1 pound new potatoes (...   \n",
       "2  ['1 cup evaporated milk', '1 cup whole milk', ...   \n",
       "3  ['1 (¾- to 1-pound) round Italian loaf, cut in...   \n",
       "4  ['1 teaspoon dark brown sugar', '1 teaspoon ho...   \n",
       "\n",
       "                                        Instructions  \\\n",
       "0  Pat chicken dry with paper towels, season all ...   \n",
       "1  Preheat oven to 400°F and line a rimmed baking...   \n",
       "2  Place a rack in middle of oven; preheat to 400...   \n",
       "3  Preheat oven to 350°F with rack in middle. Gen...   \n",
       "4  Stir together brown sugar and hot water in a c...   \n",
       "\n",
       "                                          Image_Name  \\\n",
       "0  miso-butter-roast-chicken-acorn-squash-panzanella   \n",
       "1         crispy-salt-and-pepper-potatoes-dan-kluger   \n",
       "2         thanksgiving-mac-and-cheese-erick-williams   \n",
       "3          italian-sausage-and-bread-stuffing-240559   \n",
       "4                 newtons-law-apple-bourbon-cocktail   \n",
       "\n",
       "                                 Cleaned_Ingredients  \\\n",
       "0  ['1 (3½–4-lb.) whole chicken', '2¾ tsp. kosher...   \n",
       "1  ['2 large egg whites', '1 pound new potatoes (...   \n",
       "2  ['1 cup evaporated milk', '1 cup whole milk', ...   \n",
       "3  ['1 (¾- to 1-pound) round Italian loaf, cut in...   \n",
       "4  ['1 teaspoon dark brown sugar', '1 teaspoon ho...   \n",
       "\n",
       "                                                text  \n",
       "0       Food Name : Miso-Butter Roast Chicken Wit...  \n",
       "1       Food Name : Crispy Salt and Pepper Potato...  \n",
       "2       Food Name : Thanksgiving Mac and Cheese  ...  \n",
       "3       Food Name : Italian Sausage and Bread Stu...  \n",
       "4       Food Name : Newton's Law    Ingredients: ...  "
      ]
     },
     "execution_count": 7,
     "metadata": {},
     "output_type": "execute_result"
    }
   ],
   "source": [
    "df = food_ingredients_recipes.reset_index(drop=True)\n",
    "df.head()"
   ]
  },
  {
   "cell_type": "markdown",
   "id": "3c28e410-bd60-4169-b8d2-57782b75dd4e",
   "metadata": {},
   "source": [
    "# Embeddings Generation"
   ]
  },
  {
   "cell_type": "code",
   "execution_count": 8,
   "id": "76b53d40-ee4b-4814-8e1f-6c94bbd19680",
   "metadata": {
    "scrolled": true
   },
   "outputs": [],
   "source": [
    "texts = df['text'].tolist()\n",
    "batch_size = 10\n",
    "embeddings = []\n",
    "\n",
    "for i in range(0, len(texts), batch_size):\n",
    "    batch = texts[i:i + batch_size]\n",
    "    encoded_batch = model.encode(batch)\n",
    "    embeddings.extend(encoded_batch)"
   ]
  },
  {
   "cell_type": "code",
   "execution_count": 9,
   "id": "afc51cd3-136c-479a-9c85-c6ec03b47b16",
   "metadata": {
    "scrolled": true
   },
   "outputs": [],
   "source": [
    "df['embeddings'] = embeddings"
   ]
  },
  {
   "cell_type": "code",
   "execution_count": 10,
   "id": "e8fdf05d-0a94-4669-a8a8-49ae3f1d00ea",
   "metadata": {},
   "outputs": [
    {
     "data": {
      "text/html": [
       "<div>\n",
       "<style scoped>\n",
       "    .dataframe tbody tr th:only-of-type {\n",
       "        vertical-align: middle;\n",
       "    }\n",
       "\n",
       "    .dataframe tbody tr th {\n",
       "        vertical-align: top;\n",
       "    }\n",
       "\n",
       "    .dataframe thead th {\n",
       "        text-align: right;\n",
       "    }\n",
       "</style>\n",
       "<table border=\"1\" class=\"dataframe\">\n",
       "  <thead>\n",
       "    <tr style=\"text-align: right;\">\n",
       "      <th></th>\n",
       "      <th>Title</th>\n",
       "      <th>Ingredients</th>\n",
       "      <th>Instructions</th>\n",
       "      <th>Image_Name</th>\n",
       "      <th>Cleaned_Ingredients</th>\n",
       "      <th>text</th>\n",
       "      <th>embeddings</th>\n",
       "    </tr>\n",
       "  </thead>\n",
       "  <tbody>\n",
       "    <tr>\n",
       "      <th>13179</th>\n",
       "      <td>Roast Leg of Lamb with Fennel Butter</td>\n",
       "      <td>['6 tablespoons (3/4 stick) butter, room tempe...</td>\n",
       "      <td>Mix all ingredients with fork in medium bowl. ...</td>\n",
       "      <td>roast-leg-of-lamb-with-fennel-butter-107927</td>\n",
       "      <td>['6 tablespoons (3/4 stick) butter, room tempe...</td>\n",
       "      <td>Food Name : Roast Leg of Lamb with Fennel...</td>\n",
       "      <td>[-0.06609001, -0.06360756, -0.023460722, 0.020...</td>\n",
       "    </tr>\n",
       "    <tr>\n",
       "      <th>2675</th>\n",
       "      <td>Watermelon With Yogurt, Poppy Seeds, and Fried...</td>\n",
       "      <td>['2 tablespoons olive oil', '1 (6-inch) rosema...</td>\n",
       "      <td>Heat oil in a small skillet over medium. Fry r...</td>\n",
       "      <td>watermelon-with-yogurt-poppy-seeds-and-fried-r...</td>\n",
       "      <td>['2 tablespoons olive oil', '1 (6-inch) rosema...</td>\n",
       "      <td>Food Name : Watermelon With Yogurt, Poppy...</td>\n",
       "      <td>[-0.07272331, -0.027076883, 0.0043660663, -0.0...</td>\n",
       "    </tr>\n",
       "    <tr>\n",
       "      <th>4545</th>\n",
       "      <td>Wakame-Cucumber Salad</td>\n",
       "      <td>['1 ounce dried wakame', '1/2 cup distilled wh...</td>\n",
       "      <td>Soak wakame in a small bowl of cold water 20 m...</td>\n",
       "      <td>wakame-cucumber-salad-51239960</td>\n",
       "      <td>['1 ounce dried wakame', '1/2 cup distilled wh...</td>\n",
       "      <td>Food Name : Wakame-Cucumber Salad    Ingr...</td>\n",
       "      <td>[-0.068909645, 0.00986375, -0.019064257, 0.029...</td>\n",
       "    </tr>\n",
       "    <tr>\n",
       "      <th>8610</th>\n",
       "      <td>Outside-in Cheddar Sliders on Mini Buns</td>\n",
       "      <td>['1 1/2 pounds ground chuck (20% fat)', '4 1-i...</td>\n",
       "      <td>Divide meat into 8 equal pieces. Shape into ba...</td>\n",
       "      <td>outside-in-cheddar-sliders-on-mini-buns-353829</td>\n",
       "      <td>['1 1/2 pounds ground chuck (20% fat)', '4 1-i...</td>\n",
       "      <td>Food Name : Outside-in Cheddar Sliders on...</td>\n",
       "      <td>[0.020939069, 0.011917379, -0.0023811022, -0.0...</td>\n",
       "    </tr>\n",
       "    <tr>\n",
       "      <th>4920</th>\n",
       "      <td>Beef Cheek Tacos</td>\n",
       "      <td>['2 tablespoons kosher salt', 'Juice of 1/2 le...</td>\n",
       "      <td>In a large pot, combine all the brine ingredie...</td>\n",
       "      <td>beef-cheek-tacos-51210610</td>\n",
       "      <td>['2 tablespoons kosher salt', 'Juice of 1/2 le...</td>\n",
       "      <td>Food Name : Beef Cheek Tacos    Ingredien...</td>\n",
       "      <td>[-0.027060883, -0.021837901, -0.008346746, 0.0...</td>\n",
       "    </tr>\n",
       "    <tr>\n",
       "      <th>1978</th>\n",
       "      <td>Cucumber Raita with Black Mustard and Cilantro</td>\n",
       "      <td>['1/2 teaspoon cumin seeds', '1 tablespoon sun...</td>\n",
       "      <td>Toast cumin seeds in a dry small saucepan over...</td>\n",
       "      <td>cucumber-raita-with-black-mustard-and-cilantro</td>\n",
       "      <td>['1/2 teaspoon cumin seeds', '1 tablespoon sun...</td>\n",
       "      <td>Food Name : Cucumber Raita with Black Mus...</td>\n",
       "      <td>[-0.0958522, -0.06537166, -0.052214775, -0.026...</td>\n",
       "    </tr>\n",
       "    <tr>\n",
       "      <th>10884</th>\n",
       "      <td>Sauteed Striped Bass with Mint Pesto and Spice...</td>\n",
       "      <td>['1/4 cup (packed) fresh mint leaves', '1/4 cu...</td>\n",
       "      <td>Blend mint leaves, pistachios, olive oil, and ...</td>\n",
       "      <td>sauteed-striped-bass-with-mint-pesto-and-spice...</td>\n",
       "      <td>['1/4 cup (packed) fresh mint leaves', '1/4 cu...</td>\n",
       "      <td>Food Name : Sauteed Striped Bass with Min...</td>\n",
       "      <td>[-0.10434588, -0.011691426, -0.0505506, -0.012...</td>\n",
       "    </tr>\n",
       "    <tr>\n",
       "      <th>923</th>\n",
       "      <td>Make-Ahead Mashed Potatoes</td>\n",
       "      <td>['4 lb. medium Yukon Gold potatoes, scrubbed',...</td>\n",
       "      <td>Place potatoes in a large pot and pour in cold...</td>\n",
       "      <td>make-ahead-mashed-potatoes</td>\n",
       "      <td>['4 lb. medium Yukon Gold potatoes, scrubbed',...</td>\n",
       "      <td>Food Name : Make-Ahead Mashed Potatoes   ...</td>\n",
       "      <td>[0.046270024, -0.071169555, -0.020231845, -0.0...</td>\n",
       "    </tr>\n",
       "    <tr>\n",
       "      <th>10993</th>\n",
       "      <td>Braised Short Ribs with Chocolate and Rosemary</td>\n",
       "      <td>['1/4 cup diced pancetta (Italian bacon; about...</td>\n",
       "      <td>Heat heavy large pot over medium heat. Add pan...</td>\n",
       "      <td>braised-short-ribs-with-chocolate-and-rosemary...</td>\n",
       "      <td>['1/4 cup diced pancetta (Italian bacon; about...</td>\n",
       "      <td>Food Name : Braised Short Ribs with Choco...</td>\n",
       "      <td>[0.060287874, 0.0041205706, -0.021942992, -0.0...</td>\n",
       "    </tr>\n",
       "    <tr>\n",
       "      <th>9170</th>\n",
       "      <td>Evergreen Frittata</td>\n",
       "      <td>['10 large eggs, lightly beaten', 'Salt and fr...</td>\n",
       "      <td>1. Preheat oven to 350°F. Beat eggs with salt,...</td>\n",
       "      <td>evergreen-frittata-351109</td>\n",
       "      <td>['10 large eggs, lightly beaten', 'Salt and fr...</td>\n",
       "      <td>Food Name : Evergreen Frittata    Ingredi...</td>\n",
       "      <td>[-0.03550947, 0.027915966, 0.015269407, 0.0431...</td>\n",
       "    </tr>\n",
       "  </tbody>\n",
       "</table>\n",
       "</div>"
      ],
      "text/plain": [
       "                                                   Title  \\\n",
       "13179               Roast Leg of Lamb with Fennel Butter   \n",
       "2675   Watermelon With Yogurt, Poppy Seeds, and Fried...   \n",
       "4545                               Wakame-Cucumber Salad   \n",
       "8610             Outside-in Cheddar Sliders on Mini Buns   \n",
       "4920                                    Beef Cheek Tacos   \n",
       "1978      Cucumber Raita with Black Mustard and Cilantro   \n",
       "10884  Sauteed Striped Bass with Mint Pesto and Spice...   \n",
       "923                           Make-Ahead Mashed Potatoes   \n",
       "10993     Braised Short Ribs with Chocolate and Rosemary   \n",
       "9170                                  Evergreen Frittata   \n",
       "\n",
       "                                             Ingredients  \\\n",
       "13179  ['6 tablespoons (3/4 stick) butter, room tempe...   \n",
       "2675   ['2 tablespoons olive oil', '1 (6-inch) rosema...   \n",
       "4545   ['1 ounce dried wakame', '1/2 cup distilled wh...   \n",
       "8610   ['1 1/2 pounds ground chuck (20% fat)', '4 1-i...   \n",
       "4920   ['2 tablespoons kosher salt', 'Juice of 1/2 le...   \n",
       "1978   ['1/2 teaspoon cumin seeds', '1 tablespoon sun...   \n",
       "10884  ['1/4 cup (packed) fresh mint leaves', '1/4 cu...   \n",
       "923    ['4 lb. medium Yukon Gold potatoes, scrubbed',...   \n",
       "10993  ['1/4 cup diced pancetta (Italian bacon; about...   \n",
       "9170   ['10 large eggs, lightly beaten', 'Salt and fr...   \n",
       "\n",
       "                                            Instructions  \\\n",
       "13179  Mix all ingredients with fork in medium bowl. ...   \n",
       "2675   Heat oil in a small skillet over medium. Fry r...   \n",
       "4545   Soak wakame in a small bowl of cold water 20 m...   \n",
       "8610   Divide meat into 8 equal pieces. Shape into ba...   \n",
       "4920   In a large pot, combine all the brine ingredie...   \n",
       "1978   Toast cumin seeds in a dry small saucepan over...   \n",
       "10884  Blend mint leaves, pistachios, olive oil, and ...   \n",
       "923    Place potatoes in a large pot and pour in cold...   \n",
       "10993  Heat heavy large pot over medium heat. Add pan...   \n",
       "9170   1. Preheat oven to 350°F. Beat eggs with salt,...   \n",
       "\n",
       "                                              Image_Name  \\\n",
       "13179        roast-leg-of-lamb-with-fennel-butter-107927   \n",
       "2675   watermelon-with-yogurt-poppy-seeds-and-fried-r...   \n",
       "4545                      wakame-cucumber-salad-51239960   \n",
       "8610      outside-in-cheddar-sliders-on-mini-buns-353829   \n",
       "4920                           beef-cheek-tacos-51210610   \n",
       "1978      cucumber-raita-with-black-mustard-and-cilantro   \n",
       "10884  sauteed-striped-bass-with-mint-pesto-and-spice...   \n",
       "923                           make-ahead-mashed-potatoes   \n",
       "10993  braised-short-ribs-with-chocolate-and-rosemary...   \n",
       "9170                           evergreen-frittata-351109   \n",
       "\n",
       "                                     Cleaned_Ingredients  \\\n",
       "13179  ['6 tablespoons (3/4 stick) butter, room tempe...   \n",
       "2675   ['2 tablespoons olive oil', '1 (6-inch) rosema...   \n",
       "4545   ['1 ounce dried wakame', '1/2 cup distilled wh...   \n",
       "8610   ['1 1/2 pounds ground chuck (20% fat)', '4 1-i...   \n",
       "4920   ['2 tablespoons kosher salt', 'Juice of 1/2 le...   \n",
       "1978   ['1/2 teaspoon cumin seeds', '1 tablespoon sun...   \n",
       "10884  ['1/4 cup (packed) fresh mint leaves', '1/4 cu...   \n",
       "923    ['4 lb. medium Yukon Gold potatoes, scrubbed',...   \n",
       "10993  ['1/4 cup diced pancetta (Italian bacon; about...   \n",
       "9170   ['10 large eggs, lightly beaten', 'Salt and fr...   \n",
       "\n",
       "                                                    text  \\\n",
       "13179       Food Name : Roast Leg of Lamb with Fennel...   \n",
       "2675        Food Name : Watermelon With Yogurt, Poppy...   \n",
       "4545        Food Name : Wakame-Cucumber Salad    Ingr...   \n",
       "8610        Food Name : Outside-in Cheddar Sliders on...   \n",
       "4920        Food Name : Beef Cheek Tacos    Ingredien...   \n",
       "1978        Food Name : Cucumber Raita with Black Mus...   \n",
       "10884       Food Name : Sauteed Striped Bass with Min...   \n",
       "923         Food Name : Make-Ahead Mashed Potatoes   ...   \n",
       "10993       Food Name : Braised Short Ribs with Choco...   \n",
       "9170        Food Name : Evergreen Frittata    Ingredi...   \n",
       "\n",
       "                                              embeddings  \n",
       "13179  [-0.06609001, -0.06360756, -0.023460722, 0.020...  \n",
       "2675   [-0.07272331, -0.027076883, 0.0043660663, -0.0...  \n",
       "4545   [-0.068909645, 0.00986375, -0.019064257, 0.029...  \n",
       "8610   [0.020939069, 0.011917379, -0.0023811022, -0.0...  \n",
       "4920   [-0.027060883, -0.021837901, -0.008346746, 0.0...  \n",
       "1978   [-0.0958522, -0.06537166, -0.052214775, -0.026...  \n",
       "10884  [-0.10434588, -0.011691426, -0.0505506, -0.012...  \n",
       "923    [0.046270024, -0.071169555, -0.020231845, -0.0...  \n",
       "10993  [0.060287874, 0.0041205706, -0.021942992, -0.0...  \n",
       "9170   [-0.03550947, 0.027915966, 0.015269407, 0.0431...  "
      ]
     },
     "execution_count": 10,
     "metadata": {},
     "output_type": "execute_result"
    }
   ],
   "source": [
    "df.sample(10)"
   ]
  },
  {
   "cell_type": "markdown",
   "id": "f4a59f60-17eb-4d53-a10e-1251bde815b1",
   "metadata": {},
   "source": [
    "# Similarity Calculation"
   ]
  },
  {
   "cell_type": "code",
   "execution_count": 11,
   "id": "4b29a1bb-3b8d-42a9-9fed-0af2b7e293ba",
   "metadata": {
    "scrolled": true
   },
   "outputs": [
    {
     "data": {
      "text/plain": [
       "array([0.        , 0.45106906, 0.4898644 , ..., 0.5922939 , 0.5183458 ,\n",
       "       0.38280433], dtype=float32)"
      ]
     },
     "execution_count": 11,
     "metadata": {},
     "output_type": "execute_result"
    }
   ],
   "source": [
    "cosine_distances(embeddings)[0]"
   ]
  },
  {
   "cell_type": "markdown",
   "id": "8021ac89-e35d-4a29-b58f-2f58f8b18701",
   "metadata": {},
   "source": [
    "# Moroccan Recipes Extraction Exemple"
   ]
  },
  {
   "cell_type": "code",
   "execution_count": 16,
   "id": "07108df1-f78a-43fa-b0aa-6dc02615f428",
   "metadata": {},
   "outputs": [
    {
     "data": {
      "text/html": [
       "<div>\n",
       "<style scoped>\n",
       "    .dataframe tbody tr th:only-of-type {\n",
       "        vertical-align: middle;\n",
       "    }\n",
       "\n",
       "    .dataframe tbody tr th {\n",
       "        vertical-align: top;\n",
       "    }\n",
       "\n",
       "    .dataframe thead th {\n",
       "        text-align: right;\n",
       "    }\n",
       "</style>\n",
       "<table border=\"1\" class=\"dataframe\">\n",
       "  <thead>\n",
       "    <tr style=\"text-align: right;\">\n",
       "      <th></th>\n",
       "      <th>Title</th>\n",
       "      <th>Ingredients</th>\n",
       "      <th>Instructions</th>\n",
       "      <th>Image_Name</th>\n",
       "      <th>Cleaned_Ingredients</th>\n",
       "      <th>text</th>\n",
       "      <th>embeddings</th>\n",
       "    </tr>\n",
       "  </thead>\n",
       "  <tbody>\n",
       "    <tr>\n",
       "      <th>11861</th>\n",
       "      <td>Moroccan Beef Stew</td>\n",
       "      <td>['3 tablespoons olive oil, divided', '1 3/4 po...</td>\n",
       "      <td>Heat 2 tablespoons oil in heavy large saucepan...</td>\n",
       "      <td>moroccan-beef-stew-234422</td>\n",
       "      <td>['3 tablespoons olive oil, divided', '1 3/4 po...</td>\n",
       "      <td>Food Name : Moroccan Beef Stew    Ingredi...</td>\n",
       "      <td>[-0.06400834, -0.010244417, -0.039613552, 0.01...</td>\n",
       "    </tr>\n",
       "    <tr>\n",
       "      <th>8848</th>\n",
       "      <td>Moroccan Spiced Olives</td>\n",
       "      <td>['2 cups green olives (with pits) in brine (10...</td>\n",
       "      <td>Cover olives with water in a small saucepan an...</td>\n",
       "      <td>moroccan-spiced-olives-352280</td>\n",
       "      <td>['2 cups green olives (with pits) in brine (10...</td>\n",
       "      <td>Food Name : Moroccan Spiced Olives    Ing...</td>\n",
       "      <td>[-0.076656654, -0.029320665, -0.060895417, -0....</td>\n",
       "    </tr>\n",
       "    <tr>\n",
       "      <th>10244</th>\n",
       "      <td>Moroccan Chicken Pot Pie</td>\n",
       "      <td>['1 1/2 pounds skinless boneless chicken breas...</td>\n",
       "      <td>Preheat oven to 425°F. Mix chicken cubes with ...</td>\n",
       "      <td>moroccan-chicken-pot-pie-240752</td>\n",
       "      <td>['1 1/2 pounds skinless boneless chicken breas...</td>\n",
       "      <td>Food Name : Moroccan Chicken Pot Pie    I...</td>\n",
       "      <td>[-0.04690717, -0.038916435, -0.0171059, -0.021...</td>\n",
       "    </tr>\n",
       "  </tbody>\n",
       "</table>\n",
       "</div>"
      ],
      "text/plain": [
       "                          Title  \\\n",
       "11861        Moroccan Beef Stew   \n",
       "8848     Moroccan Spiced Olives   \n",
       "10244  Moroccan Chicken Pot Pie   \n",
       "\n",
       "                                             Ingredients  \\\n",
       "11861  ['3 tablespoons olive oil, divided', '1 3/4 po...   \n",
       "8848   ['2 cups green olives (with pits) in brine (10...   \n",
       "10244  ['1 1/2 pounds skinless boneless chicken breas...   \n",
       "\n",
       "                                            Instructions  \\\n",
       "11861  Heat 2 tablespoons oil in heavy large saucepan...   \n",
       "8848   Cover olives with water in a small saucepan an...   \n",
       "10244  Preheat oven to 425°F. Mix chicken cubes with ...   \n",
       "\n",
       "                            Image_Name  \\\n",
       "11861        moroccan-beef-stew-234422   \n",
       "8848     moroccan-spiced-olives-352280   \n",
       "10244  moroccan-chicken-pot-pie-240752   \n",
       "\n",
       "                                     Cleaned_Ingredients  \\\n",
       "11861  ['3 tablespoons olive oil, divided', '1 3/4 po...   \n",
       "8848   ['2 cups green olives (with pits) in brine (10...   \n",
       "10244  ['1 1/2 pounds skinless boneless chicken breas...   \n",
       "\n",
       "                                                    text  \\\n",
       "11861       Food Name : Moroccan Beef Stew    Ingredi...   \n",
       "8848        Food Name : Moroccan Spiced Olives    Ing...   \n",
       "10244       Food Name : Moroccan Chicken Pot Pie    I...   \n",
       "\n",
       "                                              embeddings  \n",
       "11861  [-0.06400834, -0.010244417, -0.039613552, 0.01...  \n",
       "8848   [-0.076656654, -0.029320665, -0.060895417, -0....  \n",
       "10244  [-0.04690717, -0.038916435, -0.0171059, -0.021...  "
      ]
     },
     "execution_count": 16,
     "metadata": {},
     "output_type": "execute_result"
    }
   ],
   "source": [
    "df_moroccan = df[df['Title'].str.contains('Moroccan', case=False, na=False)]\n",
    "df_moroccan.sample(3)"
   ]
  },
  {
   "cell_type": "markdown",
   "id": "7d0d59f3-7105-498f-9f46-0f08ad485d6e",
   "metadata": {},
   "source": [
    "# Similar Recipes Search"
   ]
  },
  {
   "cell_type": "code",
   "execution_count": 17,
   "id": "20021e68-a097-4812-bfa8-3eddf1710b51",
   "metadata": {},
   "outputs": [],
   "source": [
    "food_name = \"Moroccan Beef Stew\"\n",
    "food_row = df[df[\"Title\"] == food_name]\n",
    "food_embedding = np.array(food_row.embeddings.tolist())\n",
    "all_food_embeddings = np.array(df.embeddings.tolist())\n",
    "distances = cosine_distances(food_embedding, all_food_embeddings)\n",
    "sorted_indices = distances.argsort()\n",
    "for idx in sorted_indices[:20]:\n",
    "    similar_food = df.iloc[idx]"
   ]
  },
  {
   "cell_type": "code",
   "execution_count": 18,
   "id": "b122f396-3a6d-4d52-8236-12ff513b0c7a",
   "metadata": {},
   "outputs": [
    {
     "data": {
      "text/html": [
       "\n",
       "    <div style=\"border: 2px solid #3498db; border-radius: 10px; overflow: hidden; margin: 20px; padding: 10px; background-color: #ecf0f1;\">\n",
       "        <h2 style=\"color: #3498db; text-align: center; font-weight: bold; padding-bottom: 10px;\">Moroccan Braised Beef</h2>\n",
       "        <div style=\"display: flex; flex-wrap: wrap;\">\n",
       "            <div style=\"flex: 1; padding-right: 20px;\">\n",
       "                <h4 style=\"color: #2c3e50;\">Ingredients:</h4>\n",
       "                <p style=\"color: #34495e; margin-bottom: 0;\">['3 tablespoons olive oil, divided', '2 1/2 pounds boneless chuck roast, cut into 3/4-inch cubes', '2 cups chopped onions', '3 garlic cloves, chopped', '1 tablespoon garam masala*', '1 tablespoon paprika', '1 teaspoon ground cumin', '1/2 teaspoon turmeric', '1/2 teaspoon cayenne pepper', '1 cup dry red wine', '1/2 cup dry Sherry', '2 cups beef broth', '1 14 1/2-ounce can diced tomatoes in juice', '1 1/2 cups golden raisins']</p>\n",
       "            </div>\n",
       "            <div style=\"flex: 1;\">\n",
       "                <h4 style=\"color: #2c3e50;\">Instructions:</h4>\n",
       "                <p style=\"color: #34495e; margin-bottom: 0;\">Heat 2 tablespoons oil in large pot over medium-high heat. Sprinkle meat with salt and pepper. Add meat to pot; sauté until no longer pink, about 5 minutes. Transfer meat to bowl. Heat 1 tablespoon oil in same pot. Add onions; sauté until brown, about 8 minutes. Add garlic and next 5 ingredients; stir 1 minute. Add wine and Sherry; boil until reduced to glaze, stirring occasionally, about 8 minutes. Add broth, tomatoes with juice, and raisins; stir to blend. Add beef and accumulated juices; bring to simmer. Reduce heat to medium-low. Simmer uncovered until sauce is thick and beef is tender, stirring occasionally, about 1 hour 15 minutes. Season stew with salt and pepper. (Can be made 2 days ahead. Cool slightly, chill until cold, then cover and keep chilled. Rewarm before serving.)\n",
       "*An Indian spice mixture available in the spice section of many supermarkets.</p>\n",
       "            </div>\n",
       "        </div>\n",
       "        <img src=\"./Food Images/Food Images/moroccan-braised-beef-230639.jpg\" style=\"max-width: 100%; border-radius: 10px; margin-top: 15px; box-shadow: 0px 0px 10px rgba(0, 0, 0, 0.1);\">\n",
       "    </div>\n",
       "    "
      ],
      "text/plain": [
       "<IPython.core.display.HTML object>"
      ]
     },
     "metadata": {},
     "output_type": "display_data"
    },
    {
     "data": {
      "text/html": [
       "\n",
       "    <div style=\"border: 2px solid #3498db; border-radius: 10px; overflow: hidden; margin: 20px; padding: 10px; background-color: #ecf0f1;\">\n",
       "        <h2 style=\"color: #3498db; text-align: center; font-weight: bold; padding-bottom: 10px;\">Beef Stew</h2>\n",
       "        <div style=\"display: flex; flex-wrap: wrap;\">\n",
       "            <div style=\"flex: 1; padding-right: 20px;\">\n",
       "                <h4 style=\"color: #2c3e50;\">Ingredients:</h4>\n",
       "                <p style=\"color: #34495e; margin-bottom: 0;\">['1/2 cup flour', '1 teaspoon salt', '1/4 teaspoon pepper', '2 pounds stew beef, cubed', '3 teaspoons olive oil or butter', '1 bay leaf', '1 clove garlic, smashed', '1 beef stock cube', '1 pound small onions', '6 carrots, sliced', '3 medium-size potatoes, quartered', '1 package frozen peas']</p>\n",
       "            </div>\n",
       "            <div style=\"flex: 1;\">\n",
       "                <h4 style=\"color: #2c3e50;\">Instructions:</h4>\n",
       "                <p style=\"color: #34495e; margin-bottom: 0;\">Mix flour, salt, and pepper in a bowl and coat each piece of beef with it. Heat olive oil or butter in a heavy pot or Dutch oven and brown the meat over moderate heat. Remove meat as necessary to brown remaining meat. Return all meat to the pot. Dissolve beef stock cube in 2 cups boiling water and add to pot with meat. Add bay leaf and garlic and bring to a boil. Lower heat, cover, and simmer slowly until the meat is tender. Add onions, carrots, and potatoes; stir to mix ingredients, and cook for 10 minutes. Add peas, and continue simmering until the meat and vegetables are tender, about 20 minutes.</p>\n",
       "            </div>\n",
       "        </div>\n",
       "        <img src=\"./Food Images/Food Images/beef-stew-358272.jpg\" style=\"max-width: 100%; border-radius: 10px; margin-top: 15px; box-shadow: 0px 0px 10px rgba(0, 0, 0, 0.1);\">\n",
       "    </div>\n",
       "    "
      ],
      "text/plain": [
       "<IPython.core.display.HTML object>"
      ]
     },
     "metadata": {},
     "output_type": "display_data"
    },
    {
     "data": {
      "text/html": [
       "\n",
       "    <div style=\"border: 2px solid #3498db; border-radius: 10px; overflow: hidden; margin: 20px; padding: 10px; background-color: #ecf0f1;\">\n",
       "        <h2 style=\"color: #3498db; text-align: center; font-weight: bold; padding-bottom: 10px;\">Spiced Beef Stew with Carrots and Mint</h2>\n",
       "        <div style=\"display: flex; flex-wrap: wrap;\">\n",
       "            <div style=\"flex: 1; padding-right: 20px;\">\n",
       "                <h4 style=\"color: #2c3e50;\">Ingredients:</h4>\n",
       "                <p style=\"color: #34495e; margin-bottom: 0;\">['2 tablespoons olive oil, divided', '12 ounces beef tenderloin, cut into 1-inch cubes', '1 cup sliced shallots (about 3 large)', '8 ounces peeled baby carrots', '2 teaspoons ground cumin', '1 1/2 teaspoons pumpkin pie spice', '1/8 teaspoon cayenne pepper', '1 tablespoon all purpose flour', '2 1/2 cups beef broth', '1/3 cup chopped fresh mint, divided']</p>\n",
       "            </div>\n",
       "            <div style=\"flex: 1;\">\n",
       "                <h4 style=\"color: #2c3e50;\">Instructions:</h4>\n",
       "                <p style=\"color: #34495e; margin-bottom: 0;\">Heat 1 tablespoon oil in large nonstick skillet over high heat. Sprinkle beef with salt and pepper. Add beef to skillet and sauté until cooked to desired doneness, about 2 minutes for medium-rare. Using slotted spoon, transfer beef to bowl. Add remaining 1 tablespoon oil to skillet. Add shallots and carrots and sauté until golden, about 3 minutes. Add all spices; stir 30 seconds. Sprinkle flour over; stir 30 seconds. Stir in broth and bring to boil. Reduce heat to medium; simmer until carrots are just tender, about 8 minutes. Return beef to skillet; cook until sauce thickens slightly, about 1 minute. Season stew to taste with salt and pepper. Stir in 1/4 cup chopped mint. Transfer stew to bowls. Sprinkle with remaining chopped mint and serve.</p>\n",
       "            </div>\n",
       "        </div>\n",
       "        <img src=\"./Food Images/Food Images/spiced-beef-stew-with-carrots-and-mint-237295.jpg\" style=\"max-width: 100%; border-radius: 10px; margin-top: 15px; box-shadow: 0px 0px 10px rgba(0, 0, 0, 0.1);\">\n",
       "    </div>\n",
       "    "
      ],
      "text/plain": [
       "<IPython.core.display.HTML object>"
      ]
     },
     "metadata": {},
     "output_type": "display_data"
    },
    {
     "data": {
      "text/html": [
       "\n",
       "    <div style=\"border: 2px solid #3498db; border-radius: 10px; overflow: hidden; margin: 20px; padding: 10px; background-color: #ecf0f1;\">\n",
       "        <h2 style=\"color: #3498db; text-align: center; font-weight: bold; padding-bottom: 10px;\">Moroccan Lamb Stew</h2>\n",
       "        <div style=\"display: flex; flex-wrap: wrap;\">\n",
       "            <div style=\"flex: 1; padding-right: 20px;\">\n",
       "                <h4 style=\"color: #2c3e50;\">Ingredients:</h4>\n",
       "                <p style=\"color: #34495e; margin-bottom: 0;\">['2 pounds lamb stew meat, cut into 1-inch cubes', 'Sea salt or pink Himalayan sea salt to taste', 'Black pepper to taste (if tolerated)', '1/2 teaspoon ground cinnamon', '2 tablespoons coconut oil', '1 small onion, chopped', '4 cloves garlic, minced', '1 (2-inch) piece fresh ginger, peeled and minced', '2 tablespoons chopped fresh rosemary', '1 tablespoon apple cider vinegar', '1/2 cup homemade or store-bought bone broth', '1/2 cup water', '2 small oranges, zested and juiced', '4 cups chopped carrots', '2 tablespoons minced fresh dates', '1/2 cup chopped fresh cilantro, for garnish (optional)']</p>\n",
       "            </div>\n",
       "            <div style=\"flex: 1;\">\n",
       "                <h4 style=\"color: #2c3e50;\">Instructions:</h4>\n",
       "                <p style=\"color: #34495e; margin-bottom: 0;\">In a medium-size bowl, season the meat evenly with the salt, pepper, and cinnamon.\n",
       "In a large cooking pot on medium, heat the coconut oil and brown the meat, 2 to 3 minutes per side.\n",
       "Add the onion and cook for 3 minutes, or until it begins to brown slightly.\n",
       "Add the garlic, ginger, and rosemary and cook until fragrant, another couple of minutes.\n",
       "Add the apple cider vinegar, bone broth, water, orange zest and juice, carrots, and dates and bring to a boil.\n",
       "Reduce the heat to medium-low, cover, and cook for about 1 1/2 hours, or until the lamb reaches the desired tenderness.\n",
       "Serve warm garnished with cilantro.</p>\n",
       "            </div>\n",
       "        </div>\n",
       "        <img src=\"./Food Images/Food Images/moroccan-lamb-stew.jpg\" style=\"max-width: 100%; border-radius: 10px; margin-top: 15px; box-shadow: 0px 0px 10px rgba(0, 0, 0, 0.1);\">\n",
       "    </div>\n",
       "    "
      ],
      "text/plain": [
       "<IPython.core.display.HTML object>"
      ]
     },
     "metadata": {},
     "output_type": "display_data"
    },
    {
     "data": {
      "text/html": [
       "\n",
       "    <div style=\"border: 2px solid #3498db; border-radius: 10px; overflow: hidden; margin: 20px; padding: 10px; background-color: #ecf0f1;\">\n",
       "        <h2 style=\"color: #3498db; text-align: center; font-weight: bold; padding-bottom: 10px;\">Beef Stew with Potatoes and Carrots</h2>\n",
       "        <div style=\"display: flex; flex-wrap: wrap;\">\n",
       "            <div style=\"flex: 1; padding-right: 20px;\">\n",
       "                <h4 style=\"color: #2c3e50;\">Ingredients:</h4>\n",
       "                <p style=\"color: #34495e; margin-bottom: 0;\">['5 pounds boneless beef chuck (not lean), cut into 2-inch pieces', '3 tablespoons olive oil', '3 carrots, quartered', '3 celery ribs, quartered', '2 medium onions, quartered', '1 head garlic, halved crosswise', '3 tablespoons tomato paste', '1/3 cup balsamic vinegar', '1 (750-ml) bottle dry red wine (about 3 3/4 cups)', '2 Turkish bay leaves or 1 California', '2 thyme sprigs', '3 cups reduced-sodium beef broth', '3 cups water', '2 1/2 pounds small white boiling potatoes', '1 1/2 pounds carrots', 'Equipment: a wide 6-to 8-quart heavy pot with a tight-fitting lid', 'Accompaniment: crusty bread']</p>\n",
       "            </div>\n",
       "            <div style=\"flex: 1;\">\n",
       "                <h4 style=\"color: #2c3e50;\">Instructions:</h4>\n",
       "                <p style=\"color: #34495e; margin-bottom: 0;\">Preheat oven to 350°F with rack in middle.\n",
       "Pat beef dry and season with 2 1/2 teaspoons salt and 1 teaspoon pepper.\n",
       "Heat oil in pot over medium-high heat until it shimmers, then brown meat, without crowding, in 3 batches, turning, about 8 minutes per batch. Transfer to a platter.\n",
       "Reduce heat to medium, then add carrots, celery, onions, and garlic and cook, stirring occasionally, until well browned, about 12 minutes.\n",
       "Push vegetables to one side of pot. Add tomato paste to cleared area and cook paste, stirring, 2 minutes, then stir into vegetables.\n",
       "Add vinegar and cook, stirring, 2 minutes.\n",
       "Stir in wine, bay leaves, and thyme and boil until wine is reduced by about two thirds, 10 to 12 minutes.\n",
       "Add broth to pot along with water, beef, and any juices from platter and bring to a simmer. Cover and braise in oven until meat is very tender, about 2 1/2 hours.\n",
       "Set a large colander in a large bowl. Pour stew into colander. Return pieces of meat to pot, then discard remaining solids. Let cooking liquid stand 10 minutes.\n",
       "While beef braises, peel potatoes and cut into 1/2-inch-wide wedges. Slice carrots diagonally (1-inch).\n",
       "Add potatoes and carrots to stew (make sure they are submerged) and simmer, uncovered, stirring occasionally, until potatoes and carrots are tender, about 40 minutes.</p>\n",
       "            </div>\n",
       "        </div>\n",
       "        <img src=\"./Food Images/Food Images/beef-stew-with-potatoes-and-carrots-350935.jpg\" style=\"max-width: 100%; border-radius: 10px; margin-top: 15px; box-shadow: 0px 0px 10px rgba(0, 0, 0, 0.1);\">\n",
       "    </div>\n",
       "    "
      ],
      "text/plain": [
       "<IPython.core.display.HTML object>"
      ]
     },
     "metadata": {},
     "output_type": "display_data"
    }
   ],
   "source": [
    "similar_food = similar_food.iloc[1:]\n",
    "for _, row in similar_food.head(5).iterrows():\n",
    "    display(HTML(display_food(row)))"
   ]
  },
  {
   "cell_type": "code",
   "execution_count": null,
   "id": "3a3d6c7b-6a39-4cde-b2b7-a28c7df9e773",
   "metadata": {},
   "outputs": [],
   "source": []
  }
 ],
 "metadata": {
  "kernelspec": {
   "display_name": "Python 3 (ipykernel)",
   "language": "python",
   "name": "python3"
  },
  "language_info": {
   "codemirror_mode": {
    "name": "ipython",
    "version": 3
   },
   "file_extension": ".py",
   "mimetype": "text/x-python",
   "name": "python",
   "nbconvert_exporter": "python",
   "pygments_lexer": "ipython3",
   "version": "3.11.5"
  }
 },
 "nbformat": 4,
 "nbformat_minor": 5
}
